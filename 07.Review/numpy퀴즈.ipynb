{
 "cells": [
  {
   "cell_type": "markdown",
   "metadata": {},
   "source": [
    "[Quiz] A, B반이 있고, 각각 10명의 학생이 있는데, id는 0 ~ 9이다.\n",
    "\n",
    "1. seed를 123으로 고정하고 kor, math, sci 3개의 과목에 대한 점수를 생성한다.\n",
    "- 점수는 [30, 101] 사이에서 생성한다.\n",
    "2. 반별로 과목별 고점자의 id를 추출하자.\n",
    "3. 반별로 평균점수의 고점자 순으로 5명씩 추출하자."
   ]
  },
  {
   "cell_type": "code",
   "execution_count": 1,
   "metadata": {},
   "outputs": [],
   "source": [
    "import pandas as pd\n",
    "import numpy as np"
   ]
  },
  {
   "cell_type": "code",
   "execution_count": 2,
   "metadata": {},
   "outputs": [
    {
     "data": {
      "text/plain": [
       "array([[[ 96,  47,  87],\n",
       "        [ 77,  62,  76],\n",
       "        [ 55,  66,  98],\n",
       "        [ 79,  85,  97],\n",
       "        [ 32,  69,  96],\n",
       "        [ 77,  91,  78],\n",
       "        [ 37,  82,  57],\n",
       "        [ 64,  70,  33],\n",
       "        [ 99,  94,  64],\n",
       "        [ 88,  40,  52]],\n",
       "\n",
       "       [[ 48,  45,  57],\n",
       "        [ 60,  82, 100],\n",
       "        [ 56,  36,  44],\n",
       "        [ 84,  31,  73],\n",
       "        [ 88,  85,  55],\n",
       "        [ 80,  86,  79],\n",
       "        [ 42,  48,  31],\n",
       "        [ 81,  74,  78],\n",
       "        [ 86,  79,  33],\n",
       "        [ 97,  41,  51]]])"
      ]
     },
     "execution_count": 2,
     "metadata": {},
     "output_type": "execute_result"
    }
   ],
   "source": [
    "np.random.seed(123)\n",
    "scores = np.random.randint(30,101, (2,10,3))\n",
    "scores"
   ]
  },
  {
   "cell_type": "code",
   "execution_count": 3,
   "metadata": {},
   "outputs": [
    {
     "data": {
      "text/plain": [
       "array([[ 99,  94,  98],\n",
       "       [ 97,  86, 100]])"
      ]
     },
     "execution_count": 3,
     "metadata": {},
     "output_type": "execute_result"
    }
   ],
   "source": [
    "highscores = scores.max(1)\n",
    "highscores"
   ]
  },
  {
   "cell_type": "code",
   "execution_count": 4,
   "metadata": {},
   "outputs": [
    {
     "data": {
      "text/plain": [
       "array([[8, 8, 2],\n",
       "       [9, 5, 1]], dtype=int64)"
      ]
     },
     "execution_count": 4,
     "metadata": {},
     "output_type": "execute_result"
    }
   ],
   "source": [
    "highscoreIDs = scores.argmax(1)\n",
    "highscoreIDs"
   ]
  },
  {
   "cell_type": "code",
   "execution_count": 5,
   "metadata": {},
   "outputs": [
    {
     "data": {
      "text/plain": [
       "array([[76.66666667, 71.66666667, 73.        , 87.        , 65.66666667,\n",
       "        82.        , 58.66666667, 55.66666667, 85.66666667, 60.        ],\n",
       "       [50.        , 80.66666667, 45.33333333, 62.66666667, 76.        ,\n",
       "        81.66666667, 40.33333333, 77.66666667, 66.        , 63.        ]])"
      ]
     },
     "execution_count": 5,
     "metadata": {},
     "output_type": "execute_result"
    }
   ],
   "source": [
    "meanscores = scores.mean(2)\n",
    "meanscores"
   ]
  },
  {
   "cell_type": "code",
   "execution_count": 6,
   "metadata": {},
   "outputs": [
    {
     "data": {
      "text/plain": [
       "array([[7, 6, 9, 4, 1, 2, 0, 5, 8, 3],\n",
       "       [6, 2, 0, 3, 9, 8, 4, 7, 1, 5]], dtype=int64)"
      ]
     },
     "execution_count": 6,
     "metadata": {},
     "output_type": "execute_result"
    }
   ],
   "source": [
    "meanscores.argsort(-1)"
   ]
  },
  {
   "cell_type": "code",
   "execution_count": 7,
   "metadata": {},
   "outputs": [
    {
     "data": {
      "text/plain": [
       "array([[3, 8, 5, 0, 2],\n",
       "       [5, 1, 7, 4, 8]], dtype=int64)"
      ]
     },
     "execution_count": 7,
     "metadata": {},
     "output_type": "execute_result"
    }
   ],
   "source": [
    "top5ID = meanscores.argsort(-1)[:, -1:-6:-1]\n",
    "top5ID"
   ]
  },
  {
   "cell_type": "code",
   "execution_count": null,
   "metadata": {},
   "outputs": [],
   "source": []
  }
 ],
 "metadata": {
  "interpreter": {
   "hash": "79cc68648ea9c865d47a882c3abb8635bcbaad7034853949390a4dcc3b461fe2"
  },
  "kernelspec": {
   "display_name": "Python 3.8.8 64-bit ('base': conda)",
   "language": "python",
   "name": "python3"
  },
  "language_info": {
   "codemirror_mode": {
    "name": "ipython",
    "version": 3
   },
   "file_extension": ".py",
   "mimetype": "text/x-python",
   "name": "python",
   "nbconvert_exporter": "python",
   "pygments_lexer": "ipython3",
   "version": "3.8.8"
  },
  "orig_nbformat": 4
 },
 "nbformat": 4,
 "nbformat_minor": 2
}
